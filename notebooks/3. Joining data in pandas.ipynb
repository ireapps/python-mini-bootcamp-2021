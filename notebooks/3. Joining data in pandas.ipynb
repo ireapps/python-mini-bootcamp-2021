{
 "cells": [
  {
   "cell_type": "markdown",
   "metadata": {},
   "source": [
    "# 3. Joining data in pandas\n",
    "\n",
    "In this notebook, we'll use pandas to join some relational data:\n",
    "- `../data/country-codes.csv` -- a table of ISO country codes and country names\n",
    "- `../data/country-population.csv` -- country population data from the U.N.\n",
    "\n",
    "👉 [Read more about the `merge` method for joining dataframes](https://pandas.pydata.org/pandas-docs/stable/reference/api/pandas.DataFrame.merge.html)"
   ]
  },
  {
   "cell_type": "code",
   "execution_count": null,
   "metadata": {},
   "outputs": [],
   "source": [
    "import pandas as pd"
   ]
  },
  {
   "cell_type": "markdown",
   "metadata": {},
   "source": [
    "When we read in the CSVs, we need to make sure that pandas doesn't parse the ISO codes as numbers, because we want to keep any leading zeroes. So in addition to the path to the CSV, we'll also use an argument called `dtype` to specify that the `code` columns need to be parsed as a string.\n",
    "\n",
    "👉 You can find more information on the `dtype` argument [in the documentation for the `read_csv()` method](https://pandas.pydata.org/pandas-docs/stable/reference/api/pandas.read_csv.html)"
   ]
  },
  {
   "cell_type": "code",
   "execution_count": null,
   "metadata": {},
   "outputs": [],
   "source": [
    "country_codes = pd.read_csv('../data/country-codes.csv', dtype={'code': str})"
   ]
  },
  {
   "cell_type": "code",
   "execution_count": null,
   "metadata": {},
   "outputs": [],
   "source": [
    "country_codes.head()"
   ]
  },
  {
   "cell_type": "code",
   "execution_count": null,
   "metadata": {},
   "outputs": [],
   "source": [
    "country_pop = pd.read_csv('../data/country-population.csv', dtype={'code': str})"
   ]
  },
  {
   "cell_type": "code",
   "execution_count": null,
   "metadata": {},
   "outputs": [],
   "source": [
    "country_pop.head()"
   ]
  },
  {
   "cell_type": "markdown",
   "metadata": {},
   "source": [
    "### Join the data with the country codes lookup table\n",
    "\n",
    "To join data in pandas, we can use the [`merge()`](https://pandas.pydata.org/pandas-docs/stable/generated/pandas.DataFrame.merge.html) method. At minimum, you need to hand this method the two dataframes to join, plus specify the name of the column to join `on`. (If the columns have different names, you can use the `left_on` and `right_on` arguments -- the \"left\" dataframe is the first one you hand to the `merge` method.) "
   ]
  },
  {
   "cell_type": "code",
   "execution_count": null,
   "metadata": {},
   "outputs": [],
   "source": [
    "merged = pd.merge(country_pop,\n",
    "                  country_codes,\n",
    "                  on='code')"
   ]
  },
  {
   "cell_type": "code",
   "execution_count": null,
   "metadata": {},
   "outputs": [],
   "source": [
    "merged.head()"
   ]
  },
  {
   "cell_type": "markdown",
   "metadata": {},
   "source": [
    "### ✍️ Your turn\n",
    "\n",
    "In the cells below, read in these two datasets and merge them:\n",
    "- `../data/sdr-maintable.csv`: The main table of information from the Service Difficulty Reporting database maintained by the FAA.\n",
    "- `../data/sdr-opcode.csv`: The lookup table that maps airline codes to airline names.\n",
    "\n",
    "You'll want to join on the `OPCODE` column in the `sdr-maintable.csv` file and on the `CODE` column for the `sdr-opcode.csv` file, so you'll need to use the `left_on` and `right_on` arguments rather than `on`. Assign your newly joined dataframe to a new variable name.\n",
    "\n",
    "Then:\n",
    "- Select the columns you'd like to export to file\n",
    "- Export the joined file to a CSV"
   ]
  },
  {
   "cell_type": "code",
   "execution_count": null,
   "metadata": {},
   "outputs": [],
   "source": []
  },
  {
   "cell_type": "code",
   "execution_count": null,
   "metadata": {},
   "outputs": [],
   "source": []
  },
  {
   "cell_type": "code",
   "execution_count": null,
   "metadata": {},
   "outputs": [],
   "source": []
  },
  {
   "cell_type": "code",
   "execution_count": null,
   "metadata": {},
   "outputs": [],
   "source": []
  },
  {
   "cell_type": "code",
   "execution_count": null,
   "metadata": {},
   "outputs": [],
   "source": []
  },
  {
   "cell_type": "markdown",
   "metadata": {},
   "source": [
    "### Joining on multiple columns\n",
    "\n",
    "You can join on multiple columns, which can be useful when conducting an enterprise join to hunt for leads. Just pass in a list to the `on`/`left_on`/`right_on` arguments instead of a string, like this:\n",
    "\n",
    "```python\n",
    "merged = pd.merge(df1,\n",
    "                  df2,\n",
    "                  left_on=['lname', 'fname', 'zipcode'],\n",
    "                  right_on=['last_name', 'first_name', 'zip'])\n",
    "\n",
    "```"
   ]
  }
 ],
 "metadata": {
  "kernelspec": {
   "display_name": "Python 3",
   "language": "python",
   "name": "python3"
  },
  "language_info": {
   "codemirror_mode": {
    "name": "ipython",
    "version": 3
   },
   "file_extension": ".py",
   "mimetype": "text/x-python",
   "name": "python",
   "nbconvert_exporter": "python",
   "pygments_lexer": "ipython3",
   "version": "3.9.1"
  }
 },
 "nbformat": 4,
 "nbformat_minor": 2
}
