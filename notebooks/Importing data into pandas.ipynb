{
 "cells": [
  {
   "cell_type": "markdown",
   "metadata": {},
   "source": [
    "# Importing data into pandas\n",
    "\n",
    "There are tons of ways you can get data into a pandas dataframe. Here are a few of the more common ones.\n",
    "\n",
    "First, let's import pandas `as` pd."
   ]
  },
  {
   "cell_type": "code",
   "execution_count": null,
   "metadata": {},
   "outputs": [],
   "source": [
    "import pandas as pd"
   ]
  },
  {
   "cell_type": "markdown",
   "metadata": {},
   "source": [
    "### From a CSV file\n",
    "\n",
    "If your data file is delimited with something other than a comma, you'll need to specify that in the `sep` argument. For example, if you had a pipe-delimited file: `pd.read_csv('../data/my-delimited-file.txt', sep='|')`\n",
    "\n",
    "Let's read in the MLB salary data."
   ]
  },
  {
   "cell_type": "code",
   "execution_count": null,
   "metadata": {},
   "outputs": [],
   "source": [
    "df_csv = pd.read_csv('../data/mlb.csv')"
   ]
  },
  {
   "cell_type": "code",
   "execution_count": null,
   "metadata": {},
   "outputs": [],
   "source": [
    "df_csv.head()"
   ]
  },
  {
   "cell_type": "markdown",
   "metadata": {},
   "source": [
    "### From a CSV file on the Internet\n",
    "\n",
    "Just pass in the URL. This example uses [licensed child care facility data from Colorado's open data portal](https://data.colorado.gov/Early-childhood/Colorado-Licensed-Child-Care-Facilities-Report/a9rr-k8mu).\n",
    "\n",
    "The values that get returned aren't live -- like, if the results changed, your data frame would not update with new values. It reads in the data once."
   ]
  },
  {
   "cell_type": "code",
   "execution_count": null,
   "metadata": {},
   "outputs": [],
   "source": [
    "df_csv_internet = pd.read_csv('https://data.colorado.gov/api/views/a9rr-k8mu/rows.csv?accessType=DOWNLOAD')"
   ]
  },
  {
   "cell_type": "code",
   "execution_count": null,
   "metadata": {},
   "outputs": [],
   "source": [
    "df_csv_internet.head()"
   ]
  },
  {
   "cell_type": "markdown",
   "metadata": {},
   "source": [
    "### From an Excel file\n",
    "\n",
    "To read an Excel file in pandas, use the [`read_excel()`](https://pandas.pydata.org/pandas-docs/stable/generated/pandas.read_excel.html) method. Depending on the filetype (`xls` or `xlsx`), you'd also need to separately install into your virtual environment the `xlrd` or `openpyxl` modules. (We've already installed both here.)\n",
    "\n",
    "You might also want to specify the `sheet_name` to select your worksheet of interest -- the default is \"the first one.\"\n",
    "\n",
    "Here, we're reading in a spreadsheet with data on accidental drug overdoses in Connecticut."
   ]
  },
  {
   "cell_type": "code",
   "execution_count": null,
   "metadata": {},
   "outputs": [],
   "source": [
    "df_xl = pd.read_excel('../data/CT_Overdoses_2012-2016.xlsx', sheet_name='Accidental_Drug_Related_Deaths_')"
   ]
  },
  {
   "cell_type": "code",
   "execution_count": null,
   "metadata": {},
   "outputs": [],
   "source": [
    "df_xl.head()"
   ]
  },
  {
   "cell_type": "markdown",
   "metadata": {},
   "source": [
    "### From a Python data collection\n",
    "\n",
    "Maybe the work you're doing in pandas happens downstream of some other Python processing, so the data exists as a native Python data collection -- say, a list of dictionaries. You can turn this (and other Python data collections, like a list of lists) into a pandas dataframe, too."
   ]
  },
  {
   "cell_type": "code",
   "execution_count": null,
   "metadata": {},
   "outputs": [],
   "source": [
    "test_data = [\n",
    "    {'name': 'Cody Winchester', 'job': 'Training director', 'location': 'Colorado Springs, CO'},\n",
    "    {'name': 'Guy Fieri', 'job': 'Gourmand', 'location': 'Flavortown'},\n",
    "    {'name': 'Michael Bennet', 'job': 'Senator', 'location': 'Washington, D.C.'}\n",
    "]"
   ]
  },
  {
   "cell_type": "code",
   "execution_count": null,
   "metadata": {},
   "outputs": [],
   "source": [
    "df_py_lod = pd.DataFrame(data=test_data)"
   ]
  },
  {
   "cell_type": "code",
   "execution_count": null,
   "metadata": {},
   "outputs": [],
   "source": [
    "df_py_lod.head()"
   ]
  },
  {
   "cell_type": "markdown",
   "metadata": {},
   "source": [
    "If you have a list of lists, you would need to also specify the `columns` keyword argument, as well:"
   ]
  },
  {
   "cell_type": "code",
   "execution_count": null,
   "metadata": {},
   "outputs": [],
   "source": [
    "test_data_ls = [\n",
    "    ['Cody Winchester', 'Training director', 'Colorado Springs, CO'],\n",
    "    ['Guy Fieri', 'Gourmand', 'Flavortown'],\n",
    "    ['Michael Bennet', 'Senator', 'Washington, D.C']\n",
    "]"
   ]
  },
  {
   "cell_type": "code",
   "execution_count": null,
   "metadata": {},
   "outputs": [],
   "source": [
    "df_py_lol = pd.DataFrame(data=test_data_ls, columns=['name', 'job', 'location'])"
   ]
  },
  {
   "cell_type": "code",
   "execution_count": null,
   "metadata": {},
   "outputs": [],
   "source": [
    "df_py_lol.head()"
   ]
  },
  {
   "cell_type": "markdown",
   "metadata": {},
   "source": [
    "### From an HTML table\n",
    "\n",
    "OK SO.\n",
    "\n",
    "This one requires you to install and specify the Python package that has the HTML parsing engine of your choice -- [BeautifulSoup](https://www.crummy.com/software/BeautifulSoup/bs4/doc/) or [lxml](http://lxml.de/). The default is `lxml`, but here we're going to use BeautifulSoup.\n",
    "\n",
    "Huge caveat! Pulling data directly from an HTML table can be hit and miss, depending on how hairy the underlying HTML is. And if you want to scrape data from a website, it's usually better practice to save the results to a local file, _then_ load it up for analysis. But it's good to know that it's an option.\n",
    "\n",
    "In this example, we've installed `BeautifulSoup` (alias `bs4`) and we're going to import [a table of media witnesses](http://www.tdcj.state.tx.us/death_row/dr_media_witness_list.html) to Texas death row executions.\n",
    "\n",
    "We're going to pass four things to [the pandas `read_html()` method](https://pandas.pydata.org/pandas-docs/stable/reference/api/pandas.read_html.html):\n",
    "1. The URL we want to scrape (in quotes, as a string)\n",
    "2. The `flavor` of parser that we'd like to use to process the HTML (`bs4`)\n",
    "3. The HTML attributes of the table we're targeting (in this case, the table has a `class` called `tdcj_table`)\n",
    "4. The number of the list, in the list of lists that gets returned in a dataframe, that has the `header`? (Usually it's 0 -- the first one)\n",
    "\n",
    "Reading through the documentation for this method, we also notice that this method returns a _list_ of matching tables as dataframes, so we need to grab the _first_ item in this list of tables returned. Our arguments were specific enough that there's only one item in the returned list, though, so we can just grab the first item with `[0]`."
   ]
  },
  {
   "cell_type": "code",
   "execution_count": null,
   "metadata": {},
   "outputs": [],
   "source": [
    "html_df = pd.read_html('http://www.tdcj.state.tx.us/death_row/dr_media_witness_list.html',\n",
    "                       flavor='bs4',\n",
    "                       attrs={'class': 'tdcj_table'},\n",
    "                       header=0)[0]"
   ]
  },
  {
   "cell_type": "code",
   "execution_count": null,
   "metadata": {},
   "outputs": [],
   "source": [
    "html_df.head()"
   ]
  },
  {
   "cell_type": "markdown",
   "metadata": {},
   "source": [
    "### From JSON\n",
    "\n",
    "JSON stands for JavaScript Object Notation. It's a common data interchange format on the web. The [`read_json()`](https://pandas.pydata.org/pandas-docs/stable/generated/pandas.read_json.html) method can pull JSON into a data frame.\n",
    "\n",
    "Pandas can slurp in data from a local `.json` file, or from a URL -- say, a JSON API with data on dogs and cats registered in the Sunshine Coast Region of Australia. That one sounds fun! Let's do that."
   ]
  },
  {
   "cell_type": "code",
   "execution_count": null,
   "metadata": {},
   "outputs": [],
   "source": [
    "json_df = pd.read_json('https://data.sunshinecoast.qld.gov.au/resource/44qj-t4fr.json')"
   ]
  },
  {
   "cell_type": "code",
   "execution_count": null,
   "metadata": {},
   "outputs": [],
   "source": [
    "json_df.head()"
   ]
  }
 ],
 "metadata": {
  "kernelspec": {
   "display_name": "Python 3",
   "language": "python",
   "name": "python3"
  },
  "language_info": {
   "codemirror_mode": {
    "name": "ipython",
    "version": 3
   },
   "file_extension": ".py",
   "mimetype": "text/x-python",
   "name": "python",
   "nbconvert_exporter": "python",
   "pygments_lexer": "ipython3",
   "version": "3.9.1"
  }
 },
 "nbformat": 4,
 "nbformat_minor": 2
}
